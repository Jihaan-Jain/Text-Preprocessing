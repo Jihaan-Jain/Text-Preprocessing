{
  "nbformat": 4,
  "nbformat_minor": 0,
  "metadata": {
    "colab": {
      "provenance": [],
      "gpuType": "T4",
      "authorship_tag": "ABX9TyMRGdn9PZgh46cvIEixeYmu",
      "include_colab_link": true
    },
    "kernelspec": {
      "name": "python3",
      "display_name": "Python 3"
    },
    "language_info": {
      "name": "python"
    },
    "accelerator": "GPU"
  },
  "cells": [
    {
      "cell_type": "markdown",
      "metadata": {
        "id": "view-in-github",
        "colab_type": "text"
      },
      "source": [
        "<a href=\"https://colab.research.google.com/github/Jihaan-Jain/Text-Preprocessing/blob/main/Word2Vec.ipynb\" target=\"_parent\"><img src=\"https://colab.research.google.com/assets/colab-badge.svg\" alt=\"Open In Colab\"/></a>"
      ]
    },
    {
      "cell_type": "code",
      "execution_count": null,
      "metadata": {
        "colab": {
          "base_uri": "https://localhost:8080/"
        },
        "id": "OCI1iVeeOhyD",
        "outputId": "1632b177-fa37-4802-b27c-39bb2454611f"
      },
      "outputs": [
        {
          "output_type": "stream",
          "name": "stdout",
          "text": [
            "Requirement already satisfied: gensim in /usr/local/lib/python3.11/dist-packages (4.3.3)\n",
            "Requirement already satisfied: numpy<2.0,>=1.18.5 in /usr/local/lib/python3.11/dist-packages (from gensim) (1.26.4)\n",
            "Requirement already satisfied: scipy<1.14.0,>=1.7.0 in /usr/local/lib/python3.11/dist-packages (from gensim) (1.13.1)\n",
            "Requirement already satisfied: smart-open>=1.8.1 in /usr/local/lib/python3.11/dist-packages (from gensim) (7.1.0)\n",
            "Requirement already satisfied: wrapt in /usr/local/lib/python3.11/dist-packages (from smart-open>=1.8.1->gensim) (1.17.2)\n"
          ]
        }
      ],
      "source": [
        "!pip install gensim"
      ]
    },
    {
      "cell_type": "code",
      "source": [
        "import gensim\n",
        "from gensim.models import Word2Vec\n",
        "import gensim.downloader as api"
      ],
      "metadata": {
        "id": "smys4xpbPKYd"
      },
      "execution_count": null,
      "outputs": []
    },
    {
      "cell_type": "code",
      "source": [
        "dataset=api.load(\"text8\")\n",
        "data=[d for d in dataset]"
      ],
      "metadata": {
        "colab": {
          "base_uri": "https://localhost:8080/"
        },
        "id": "Qwqk8o5bPKgm",
        "outputId": "4868400d-2937-4e4b-b9c3-0398a4b1f1df"
      },
      "execution_count": null,
      "outputs": [
        {
          "output_type": "stream",
          "name": "stdout",
          "text": [
            "[==================================================] 100.0% 31.6/31.6MB downloaded\n"
          ]
        }
      ]
    },
    {
      "cell_type": "code",
      "source": [
        "model=Word2Vec(sentences=data, vector_size=100,window=5,min_count=2,workers=4);"
      ],
      "metadata": {
        "id": "AF0nqf54PKiO"
      },
      "execution_count": null,
      "outputs": []
    },
    {
      "cell_type": "code",
      "source": [
        "model.wv['cricket']\n"
      ],
      "metadata": {
        "colab": {
          "base_uri": "https://localhost:8080/"
        },
        "id": "avmGPZRuPKjN",
        "outputId": "c4a5c51e-dbea-4e42-9d9c-964ae168d41b"
      },
      "execution_count": null,
      "outputs": [
        {
          "output_type": "execute_result",
          "data": {
            "text/plain": [
              "array([-2.2754705e+00, -8.0299085e-01, -6.8496756e-02,  5.2873373e-01,\n",
              "       -7.9048932e-01, -1.3646717e+00, -1.3005435e+00, -1.2079611e+00,\n",
              "        2.2525992e+00,  3.6214936e-01,  3.5005262e-01, -1.3443531e+00,\n",
              "        3.4122545e-01,  7.0781028e-01, -4.6844670e-01, -1.0263131e+00,\n",
              "       -4.5421180e-01,  6.8071991e-01, -1.0744660e+00, -6.8970484e-01,\n",
              "        1.7461590e-01,  7.9901052e-01, -1.9554421e+00,  6.6053063e-01,\n",
              "        8.8821942e-01,  1.1309903e+00,  4.2896497e-01, -8.8155377e-01,\n",
              "       -1.9210964e-01, -7.9635453e-01, -3.3396533e-01, -1.5394777e+00,\n",
              "        1.4723706e+00,  2.1703115e-01, -1.5778197e+00,  3.5385210e-02,\n",
              "        1.7046483e+00, -5.6219310e-01, -8.6308682e-01,  1.4383154e+00,\n",
              "        1.2451408e+00, -1.0504222e+00,  1.1581386e+00,  3.3693701e-01,\n",
              "        1.5799221e-01, -7.8524284e-02,  4.2874649e-02, -2.2515545e+00,\n",
              "       -7.1826935e-02,  9.7907364e-01,  1.3172725e+00, -2.4168043e+00,\n",
              "       -6.5429354e-01, -4.7426921e-01,  4.8678493e-01, -8.9437711e-01,\n",
              "        1.3790598e+00, -1.9650955e+00,  1.3654850e+00,  1.4806837e+00,\n",
              "       -5.5854443e-02,  2.8432047e-01,  1.6927181e+00, -1.9722860e+00,\n",
              "        1.8990798e-01,  1.6803048e+00,  7.9522151e-01,  1.4154929e+00,\n",
              "        1.9900803e-03,  7.2790146e-01,  3.9899585e-01,  4.5885456e-01,\n",
              "       -5.7004720e-02,  2.6830053e-01, -3.3548000e-01, -1.4034481e+00,\n",
              "       -4.3461832e-01,  1.4899392e+00, -1.4764887e+00,  1.3579487e+00,\n",
              "       -1.5214515e+00, -7.7166885e-01, -5.0815099e-01, -2.9608908e-01,\n",
              "       -7.6114249e-01, -7.5065541e-01,  1.5222270e-03, -5.4159808e-01,\n",
              "       -1.3600315e-01,  4.7135323e-01,  8.6250567e-01,  1.2849896e-01,\n",
              "        1.2341100e+00,  7.4836320e-01, -8.2907301e-01, -6.0157138e-01,\n",
              "       -9.6669477e-01,  8.7013403e-03,  1.7045017e+00,  1.5155301e+00],\n",
              "      dtype=float32)"
            ]
          },
          "metadata": {},
          "execution_count": 8
        }
      ]
    },
    {
      "cell_type": "code",
      "source": [
        "model.wv.most_similar('man')\n"
      ],
      "metadata": {
        "colab": {
          "base_uri": "https://localhost:8080/"
        },
        "id": "c3hU6oSmPKlc",
        "outputId": "3db21158-08e1-415b-92aa-ef250cfe90f7"
      },
      "execution_count": null,
      "outputs": [
        {
          "output_type": "execute_result",
          "data": {
            "text/plain": [
              "[('woman', 0.7369277477264404),\n",
              " ('creature', 0.6389973163604736),\n",
              " ('girl', 0.6353287100791931),\n",
              " ('person', 0.5871680974960327),\n",
              " ('god', 0.562795102596283),\n",
              " ('evil', 0.5598636269569397),\n",
              " ('stranger', 0.5579286813735962),\n",
              " ('mortal', 0.555374264717102),\n",
              " ('bride', 0.5437583327293396),\n",
              " ('beast', 0.5408048033714294)]"
            ]
          },
          "metadata": {},
          "execution_count": 9
        }
      ]
    },
    {
      "cell_type": "code",
      "source": [
        "model.wv.most_similar('cricket')\n"
      ],
      "metadata": {
        "colab": {
          "base_uri": "https://localhost:8080/"
        },
        "id": "emsAhdqVRNkL",
        "outputId": "cea77080-5aff-45d5-d8c2-1be1d0792076"
      },
      "execution_count": null,
      "outputs": [
        {
          "output_type": "execute_result",
          "data": {
            "text/plain": [
              "[('football', 0.8065212965011597),\n",
              " ('soccer', 0.781643807888031),\n",
              " ('boxing', 0.7579011917114258),\n",
              " ('croquet', 0.7406917810440063),\n",
              " ('rugby', 0.7275630831718445),\n",
              " ('basketball', 0.7259926199913025),\n",
              " ('nba', 0.722822904586792),\n",
              " ('golf', 0.709771454334259),\n",
              " ('tournament', 0.6995058655738831),\n",
              " ('curling', 0.6922088265419006)]"
            ]
          },
          "metadata": {},
          "execution_count": 10
        }
      ]
    },
    {
      "cell_type": "code",
      "source": [
        "model.wv.similarity('man','woman')"
      ],
      "metadata": {
        "colab": {
          "base_uri": "https://localhost:8080/"
        },
        "id": "9KB8E8SsRNma",
        "outputId": "6d9874fd-4deb-4234-94fd-16c9a6c95f85"
      },
      "execution_count": null,
      "outputs": [
        {
          "output_type": "execute_result",
          "data": {
            "text/plain": [
              "0.7369278"
            ]
          },
          "metadata": {},
          "execution_count": 12
        }
      ]
    },
    {
      "cell_type": "code",
      "source": [
        "model.wv.similarity('man','java')"
      ],
      "metadata": {
        "colab": {
          "base_uri": "https://localhost:8080/"
        },
        "id": "RnqmUQrsRNoq",
        "outputId": "89e6efd8-dbd3-4c04-fedd-1e097b4c483a"
      },
      "execution_count": null,
      "outputs": [
        {
          "output_type": "execute_result",
          "data": {
            "text/plain": [
              "-0.11844675"
            ]
          },
          "metadata": {},
          "execution_count": 14
        }
      ]
    },
    {
      "cell_type": "code",
      "source": [
        "vec = model.wv['king'] - model.wv['man'] + model.wv['woman']\n",
        "model.wv.most_similar([vec])"
      ],
      "metadata": {
        "colab": {
          "base_uri": "https://localhost:8080/"
        },
        "id": "yzUPbBdpRstK",
        "outputId": "d286e24b-7907-4b96-f732-3b5f8aa76d96"
      },
      "execution_count": null,
      "outputs": [
        {
          "output_type": "execute_result",
          "data": {
            "text/plain": [
              "[('king', 0.8571484088897705),\n",
              " ('queen', 0.7048259377479553),\n",
              " ('prince', 0.6710057258605957),\n",
              " ('emperor', 0.6354512572288513),\n",
              " ('empress', 0.6282039284706116),\n",
              " ('regent', 0.6225960850715637),\n",
              " ('isabella', 0.6213146448135376),\n",
              " ('aragon', 0.6167980432510376),\n",
              " ('son', 0.6140770316123962),\n",
              " ('princess', 0.612710177898407)]"
            ]
          },
          "metadata": {},
          "execution_count": 16
        }
      ]
    }
  ]
}